{
 "cells": [
  {
   "cell_type": "markdown",
   "metadata": {},
   "source": [
    "## Lab Exercise_4 - PANDAS - DATA ANALYSIS"
   ]
  },
  {
   "cell_type": "markdown",
   "metadata": {},
   "source": [
    "### About the dataset (Customer Tip Data)\n",
    "\n",
    "The dataset contains information about the 244 orders served at a restaurant in the United States. Each observation includes the factors related to the order like total bill, time, the total number of people in a group, gender of the person paying for the order and so on.\n",
    "\n",
    "Attribute Information:\n",
    "\n",
    "**total_bill:** Total bill (cost of the meal), including tax, in US dollars\n",
    "\n",
    "**tip:** Tip in US dollars\n",
    "\n",
    "**sex:** Sex of person paying for the meal\n",
    "\n",
    "**smoker:** There is a smoker in a group or not\n",
    "\n",
    "**day:** Day on which the order is served\n",
    "\n",
    "**time:** Time of the order\n",
    "\n",
    "**size:** Size of the group"
   ]
  },
  {
   "cell_type": "markdown",
   "metadata": {},
   "source": [
    "**Import the required libraries**"
   ]
  },
  {
   "cell_type": "code",
   "execution_count": 1,
   "metadata": {},
   "outputs": [],
   "source": [
    "# type your code here\n",
    "import pandas as pd\n",
    "import numpy as np\n",
    "import seaborn as sb\n",
    "from matplotlib import pyplot as plt\n"
   ]
  },
  {
   "cell_type": "markdown",
   "metadata": {},
   "source": [
    "#### Load the customer tip dataset and print the first five observations"
   ]
  },
  {
   "cell_type": "code",
   "execution_count": 2,
   "metadata": {},
   "outputs": [
    {
     "data": {
      "text/html": [
       "<div>\n",
       "<style scoped>\n",
       "    .dataframe tbody tr th:only-of-type {\n",
       "        vertical-align: middle;\n",
       "    }\n",
       "\n",
       "    .dataframe tbody tr th {\n",
       "        vertical-align: top;\n",
       "    }\n",
       "\n",
       "    .dataframe thead th {\n",
       "        text-align: right;\n",
       "    }\n",
       "</style>\n",
       "<table border=\"1\" class=\"dataframe\">\n",
       "  <thead>\n",
       "    <tr style=\"text-align: right;\">\n",
       "      <th></th>\n",
       "      <th>total_bill</th>\n",
       "      <th>tip</th>\n",
       "      <th>sex</th>\n",
       "      <th>smoker</th>\n",
       "      <th>day</th>\n",
       "      <th>time</th>\n",
       "      <th>size</th>\n",
       "    </tr>\n",
       "  </thead>\n",
       "  <tbody>\n",
       "    <tr>\n",
       "      <th>0</th>\n",
       "      <td>16.99</td>\n",
       "      <td>1.01</td>\n",
       "      <td>Female</td>\n",
       "      <td>No</td>\n",
       "      <td>Sun</td>\n",
       "      <td>Dinner</td>\n",
       "      <td>2</td>\n",
       "    </tr>\n",
       "    <tr>\n",
       "      <th>1</th>\n",
       "      <td>10.34</td>\n",
       "      <td>1.66</td>\n",
       "      <td>Male</td>\n",
       "      <td>No</td>\n",
       "      <td>Sun</td>\n",
       "      <td>Dinner</td>\n",
       "      <td>3</td>\n",
       "    </tr>\n",
       "    <tr>\n",
       "      <th>2</th>\n",
       "      <td>21.01</td>\n",
       "      <td>3.50</td>\n",
       "      <td>Male</td>\n",
       "      <td>No</td>\n",
       "      <td>Sun</td>\n",
       "      <td>Dinner</td>\n",
       "      <td>3</td>\n",
       "    </tr>\n",
       "    <tr>\n",
       "      <th>3</th>\n",
       "      <td>23.68</td>\n",
       "      <td>3.31</td>\n",
       "      <td>Male</td>\n",
       "      <td>No</td>\n",
       "      <td>Sun</td>\n",
       "      <td>Dinner</td>\n",
       "      <td>2</td>\n",
       "    </tr>\n",
       "    <tr>\n",
       "      <th>4</th>\n",
       "      <td>24.59</td>\n",
       "      <td>3.61</td>\n",
       "      <td>Female</td>\n",
       "      <td>No</td>\n",
       "      <td>Sun</td>\n",
       "      <td>Dinner</td>\n",
       "      <td>4</td>\n",
       "    </tr>\n",
       "  </tbody>\n",
       "</table>\n",
       "</div>"
      ],
      "text/plain": [
       "   total_bill   tip     sex smoker  day    time  size\n",
       "0       16.99  1.01  Female     No  Sun  Dinner     2\n",
       "1       10.34  1.66    Male     No  Sun  Dinner     3\n",
       "2       21.01  3.50    Male     No  Sun  Dinner     3\n",
       "3       23.68  3.31    Male     No  Sun  Dinner     2\n",
       "4       24.59  3.61  Female     No  Sun  Dinner     4"
      ]
     },
     "execution_count": 2,
     "metadata": {},
     "output_type": "execute_result"
    }
   ],
   "source": [
    "# type your code here\n",
    "store_data=pd.read_csv(\"customer_tip.csv\")\n",
    "store_data.head(5)"
   ]
  },
  {
   "cell_type": "markdown",
   "metadata": {},
   "source": [
    "### Let's begin with some hands-on practice exercises"
   ]
  },
  {
   "cell_type": "markdown",
   "metadata": {
    "collapsed": true
   },
   "source": [
    "### 1. Print the column names of categorical and numerical variables in the data\n"
   ]
  },
  {
   "cell_type": "code",
   "execution_count": 6,
   "metadata": {},
   "outputs": [
    {
     "data": {
      "text/plain": [
       "Index(['total_bill', 'tip', 'sex', 'smoker', 'day', 'time', 'size'], dtype='object')"
      ]
     },
     "execution_count": 6,
     "metadata": {},
     "output_type": "execute_result"
    }
   ],
   "source": [
    "# type your code here\n",
    "\n",
    "store_data.columns"
   ]
  },
  {
   "cell_type": "markdown",
   "metadata": {},
   "source": [
    "### 2. Print the average value of Total bill amount and tips"
   ]
  },
  {
   "cell_type": "code",
   "execution_count": 10,
   "metadata": {},
   "outputs": [
    {
     "name": "stdout",
     "output_type": "stream",
     "text": [
      "Average Value of Total Bill 19.785942622950824\n",
      "Average value of tips 2.9982786885245902\n"
     ]
    }
   ],
   "source": [
    "# type your code\n",
    "print(\"Average Value of Total Bill\",store_data.loc[:,'total_bill'].mean())\n",
    "print(\"Average value of tips\",store_data.loc[:,'tip'].mean())"
   ]
  },
  {
   "cell_type": "markdown",
   "metadata": {
    "collapsed": true
   },
   "source": [
    "### 3. Compute the average bill amount for each day\n"
   ]
  },
  {
   "cell_type": "code",
   "execution_count": 20,
   "metadata": {},
   "outputs": [
    {
     "name": "stdout",
     "output_type": "stream",
     "text": [
      "Average bill on Saturday 20.441379310344825\n",
      "Average bill on Sunday 21.410000000000004\n",
      "Average bill on Thursday 17.682741935483865\n",
      "Average bill on Friday 17.151578947368417\n"
     ]
    }
   ],
   "source": [
    "# type your code here\n",
    "store_day_Sat =store_data[store_data[\"day\"]=='Sat']\n",
    "store_day_Sun =store_data[store_data[\"day\"]=='Sun']\n",
    "store_day_Thur =store_data[store_data[\"day\"]=='Thur']\n",
    "store_day_Fri =store_data[store_data[\"day\"]=='Fri']\n",
    "\n",
    "print(\"Average bill on Saturday\",store_day_Sat['total_bill'].mean())\n",
    "print(\"Average bill on Sunday\",store_day_Sun['total_bill'].mean())\n",
    "print(\"Average bill on Thursday\",store_day_Thur['total_bill'].mean())\n",
    "print(\"Average bill on Friday\",store_day_Fri['total_bill'].mean())"
   ]
  },
  {
   "cell_type": "markdown",
   "metadata": {
    "collapsed": true
   },
   "source": [
    "### 4. Which gender is more generous in giving the tip?</b>\n"
   ]
  },
  {
   "cell_type": "code",
   "execution_count": 6,
   "metadata": {},
   "outputs": [
    {
     "name": "stdout",
     "output_type": "stream",
     "text": [
      "Male Averge tip: 3.0896178343949052\n",
      "Female average tip: 2.833448275862069\n",
      "Male is more generous in giving the tip\n"
     ]
    },
    {
     "name": "stderr",
     "output_type": "stream",
     "text": [
      "C:\\Users\\Ramakrishnan\\anaconda3\\lib\\site-packages\\seaborn\\_decorators.py:36: FutureWarning: Pass the following variables as keyword args: x, y. From version 0.12, the only valid positional argument will be `data`, and passing other arguments without an explicit keyword will result in an error or misinterpretation.\n",
      "  warnings.warn(\n"
     ]
    },
    {
     "data": {
      "text/plain": [
       "<AxesSubplot:xlabel='sex', ylabel='tip'>"
      ]
     },
     "execution_count": 6,
     "metadata": {},
     "output_type": "execute_result"
    },
    {
     "data": {
      "image/png": "[encoded data removed]",
      "text/plain": [
       "<Figure size 432x288 with 1 Axes>"
      ]
     },
     "metadata": {
      "needs_background": "light"
     },
     "output_type": "display_data"
    }
   ],
   "source": [
    "# type your code here\n",
    "store_gender_male=store_data[store_data[\"sex\"]=='Male']\n",
    "store_gender_female=store_data[store_data[\"sex\"]=='Female']\n",
    "print(\"Male Averge tip:\",store_gender_male['tip'].mean())\n",
    "print(\"Female average tip:\",store_gender_female['tip'].mean())\n",
    "if(store_gender_male['tip'].mean()>store_gender_female['tip'].mean()):\n",
    "    print(\"Male is more generous in giving the tip\")\n",
    "else :\n",
    "    print(\"Female is more generous in giving the tip\")\n",
    "\n",
    "sb.boxplot(store_data['sex'],store_data['tip'])"
   ]
  },
  {
   "cell_type": "markdown",
   "metadata": {
    "collapsed": true
   },
   "source": [
    "### 5. According to the data, were there more customers for dinner or lunch? </b>\n"
   ]
  },
  {
   "cell_type": "code",
   "execution_count": 7,
   "metadata": {},
   "outputs": [
    {
     "name": "stdout",
     "output_type": "stream",
     "text": [
      "More Customers during Dinner\n"
     ]
    },
    {
     "name": "stderr",
     "output_type": "stream",
     "text": [
      "C:\\Users\\Ramakrishnan\\anaconda3\\lib\\site-packages\\seaborn\\_decorators.py:36: FutureWarning: Pass the following variables as keyword args: x, y. From version 0.12, the only valid positional argument will be `data`, and passing other arguments without an explicit keyword will result in an error or misinterpretation.\n",
      "  warnings.warn(\n"
     ]
    },
    {
     "data": {
      "text/plain": [
       "<AxesSubplot:xlabel='time', ylabel='size'>"
      ]
     },
     "execution_count": 7,
     "metadata": {},
     "output_type": "execute_result"
    },
    {
     "data": {
      "image/png": "[encoded data removed]",
      "text/plain": [
       "<Figure size 432x288 with 1 Axes>"
      ]
     },
     "metadata": {
      "needs_background": "light"
     },
     "output_type": "display_data"
    }
   ],
   "source": [
    "# type your code here\n",
    "store_time_lunch=store_data[store_data[\"time\"]=='Lunch']\n",
    "store_time_dinner=store_data[store_data[\"time\"]=='Dinner']\n",
    "\n",
    "if(store_time_lunch['size'].sum()>store_time_dinner['size'].sum()):\n",
    "    print(\"More Customers during lunch\")\n",
    "else :\n",
    "    print(\"More Customers during Dinner\")\n",
    "\n",
    "sb.boxplot(store_data['time'],store_data['size'])"
   ]
  },
  {
   "cell_type": "markdown",
   "metadata": {
    "collapsed": true
   },
   "source": [
    "### 6. comment on the variable 'tip' based on its measure of dispersion "
   ]
  },
  {
   "cell_type": "code",
   "execution_count": 5,
   "metadata": {},
   "outputs": [
    {
     "name": "stdout",
     "output_type": "stream",
     "text": [
      "1.3836381890011826\n",
      "2.9982786885245902\n",
      "1.9144546380624725\n"
     ]
    }
   ],
   "source": [
    "# type your code here\n",
    "print(store_data[\"tip\"].std())\n",
    "print(store_data[\"tip\"].mean())\n",
    "print(store_data[\"tip\"].var())\n",
    "# Tips are given within base value of the total bill amount\n",
    "\n"
   ]
  },
  {
   "cell_type": "markdown",
   "metadata": {
    "collapsed": true
   },
   "source": [
    "### 7. Plot the distribution of bill amount and tip and comment about its normality"
   ]
  },
  {
   "cell_type": "code",
   "execution_count": 5,
   "metadata": {},
   "outputs": [
    {
     "name": "stderr",
     "output_type": "stream",
     "text": [
      "C:\\Users\\Ramakrishnan\\anaconda3\\lib\\site-packages\\seaborn\\_decorators.py:36: FutureWarning: Pass the following variables as keyword args: x, y. From version 0.12, the only valid positional argument will be `data`, and passing other arguments without an explicit keyword will result in an error or misinterpretation.\n",
      "  warnings.warn(\n"
     ]
    },
    {
     "data": {
      "text/plain": [
       "<AxesSubplot:xlabel='total_bill', ylabel='tip'>"
      ]
     },
     "execution_count": 5,
     "metadata": {},
     "output_type": "execute_result"
    },
    {
     "data": {
      "image/png": "[encoded data removed]",
      "text/plain": [
       "<Figure size 432x288 with 1 Axes>"
      ]
     },
     "metadata": {
      "needs_background": "light"
     },
     "output_type": "display_data"
    }
   ],
   "source": [
    "# type your code here\n",
    "#store_data.groupby('total_bill')['tip'].mean().plot(kind='bar')\n",
    "sb.lineplot(store_data['total_bill'],store_data['tip'])\n",
    "# Correct % of Tip was given for the Bill amount"
   ]
  },
  {
   "cell_type": "markdown",
   "metadata": {
    "collapsed": true
   },
   "source": [
    "### 8. Is the variable 'total_bill' skewed? If yes, identify the type of skewness. Support your answer with a plot\n"
   ]
  },
  {
   "cell_type": "code",
   "execution_count": 10,
   "metadata": {},
   "outputs": [
    {
     "name": "stdout",
     "output_type": "stream",
     "text": [
      "This distribution has skew 1.1332130376158205\n"
     ]
    },
    {
     "data": {
      "image/png": "[encoded data removed]",
      "text/plain": [
       "<Figure size 432x288 with 1 Axes>"
      ]
     },
     "metadata": {
      "needs_background": "light"
     },
     "output_type": "display_data"
    }
   ],
   "source": [
    "# type your code here\n",
    "sb.kdeplot(store_data['total_bill'])\n",
    "#store_data_totalbill=store_data.loc[:,'total_bill']\n",
    "#store_data_totalbill.plot(kind = 'kde')\n",
    "print('This distribution has skew', store_data['total_bill'].skew())\n",
    "# Total Bill has left Skew and normal postive skew"
   ]
  },
  {
   "cell_type": "markdown",
   "metadata": {},
   "source": [
    "### 9. Analyze the realation between bill_amount and tips"
   ]
  },
  {
   "cell_type": "code",
   "execution_count": 19,
   "metadata": {},
   "outputs": [
    {
     "name": "stderr",
     "output_type": "stream",
     "text": [
      "C:\\Users\\Ramakrishnan\\anaconda3\\lib\\site-packages\\seaborn\\_decorators.py:36: FutureWarning: Pass the following variables as keyword args: x, y. From version 0.12, the only valid positional argument will be `data`, and passing other arguments without an explicit keyword will result in an error or misinterpretation.\n",
      "  warnings.warn(\n"
     ]
    },
    {
     "data": {
      "text/plain": [
       "<seaborn.axisgrid.FacetGrid at 0x2b7359421c0>"
      ]
     },
     "execution_count": 19,
     "metadata": {},
     "output_type": "execute_result"
    },
    {
     "data": {
      "image/png": "[encoded data removed]",
      "text/plain": [
       "<Figure size 360x360 with 1 Axes>"
      ]
     },
     "metadata": {
      "needs_background": "light"
     },
     "output_type": "display_data"
    }
   ],
   "source": [
    "sb.relplot(store_data['total_bill'],store_data['tip'])"
   ]
  },
  {
   "cell_type": "markdown",
   "metadata": {},
   "source": [
    "### 10. Find the covaraiance and correlation between bill_amount and tips. Infer the results"
   ]
  },
  {
   "cell_type": "code",
   "execution_count": 31,
   "metadata": {},
   "outputs": [
    {
     "name": "stdout",
     "output_type": "stream",
     "text": [
      "Corrleation  0.6757341092113641\n",
      "Covaraiance 8.323501629224854\n"
     ]
    }
   ],
   "source": [
    "store_data_tip=store_data[\"tip\"]\n",
    "print(\"Corrleation \",store_data_totalbill.corr(store_data_tip, method='pearson'))\n",
    "print(\"Covaraiance\",store_data_totalbill.cov(store_data_tip))\n",
    "# Strong Corrleation between Total bill and Tips\n",
    "# Positive Covaraiance exists between Total bill and tips\n"
   ]
  },
  {
   "cell_type": "markdown",
   "metadata": {},
   "source": [
    "### 11. Analyze the realtion between bill_amount, tips and sex"
   ]
  },
  {
   "cell_type": "code",
   "execution_count": 25,
   "metadata": {
    "scrolled": true
   },
   "outputs": [
    {
     "data": {
      "text/plain": [
       "<AxesSubplot:xlabel='total_bill', ylabel='tip'>"
      ]
     },
     "execution_count": 25,
     "metadata": {},
     "output_type": "execute_result"
    },
    {
     "data": {
      "image/png": "[encoded data removed]",
      "text/plain": [
       "<Figure size 432x288 with 1 Axes>"
      ]
     },
     "metadata": {
      "needs_background": "light"
     },
     "output_type": "display_data"
    }
   ],
   "source": [
    "\n",
    "sb.lineplot(x=store_data['total_bill'],y=store_data['tip'],hue=store_data['sex'])\n",
    "#sb.displot(data=store_data, kind=\"ecdf\", x=\"total_bill\", col=\"tip\", hue=\"sex\", rug=True)\n",
    "#plt.savefig('my_finding.jpg')"
   ]
  },
  {
   "cell_type": "markdown",
   "metadata": {},
   "source": [
    "### 12. Find the average number of customer for dinner and Lunch for each day "
   ]
  },
  {
   "cell_type": "code",
   "execution_count": 26,
   "metadata": {},
   "outputs": [
    {
     "name": "stdout",
     "output_type": "stream",
     "text": [
      "Average number of customers for Lunch on Thursday: 2.459016393442623\n",
      "Average number of customers for Dinner on Thursday: 2.0\n",
      "Average number of customers for Friday: 2.0\n",
      "Average number of customers for Friday: 2.1666666666666665\n",
      "Average number of customers for Saturday: nan\n",
      "Average number of customers for Saturday: 2.5172413793103448\n",
      "Average number of customers for Sunday: nan\n",
      "Average number of customers for Sunday: 2.8421052631578947\n"
     ]
    }
   ],
   "source": [
    "print(\"Average number of customers for Lunch on Thursday:\",store_day_Thur[store_day_Thur[\"time\"]=='Lunch']['size'].mean())\n",
    "print(\"Average number of customers for Dinner on Thursday:\",store_day_Thur[store_day_Thur[\"time\"]=='Dinner']['size'].mean())\n",
    "print(\"Average number of customers for Friday:\",store_day_Fri[store_day_Fri[\"time\"]=='Lunch']['size'].mean())\n",
    "print(\"Average number of customers for Friday:\",store_day_Fri[store_day_Fri[\"time\"]=='Dinner']['size'].mean())\n",
    "print(\"Average number of customers for Saturday:\",store_day_Sat[store_day_Sat[\"time\"]=='Lunch']['size'].mean())\n",
    "print(\"Average number of customers for Saturday:\",store_day_Sat[store_day_Sat[\"time\"]=='Dinner']['size'].mean())\n",
    "print(\"Average number of customers for Sunday:\",store_day_Sun[store_day_Sun[\"time\"]=='Lunch']['size'].mean())\n",
    "print(\"Average number of customers for Sunday:\",store_day_Sun[store_day_Sun[\"time\"]=='Dinner']['size'].mean())"
   ]
  },
  {
   "cell_type": "markdown",
   "metadata": {},
   "source": [
    "### 13. Find the average bill-amount  for dinner and Lunch for each day"
   ]
  },
  {
   "cell_type": "code",
   "execution_count": 30,
   "metadata": {},
   "outputs": [
    {
     "name": "stdout",
     "output_type": "stream",
     "text": [
      "Average Bill Amount for lunch on Thursday: 17.66475409836065\n",
      "Average Bill Amount for Dinner on Thursday: 18.78\n",
      "Average Bill Amount for lunch on Friday: 12.845714285714285\n",
      "Average Bill Amount for dinner on Friday: 19.66333333333333\n",
      "Average Bill Amount for lunch on Saturday: nan\n",
      "Average Bill Amount for dinner on Saturday: 20.441379310344825\n",
      "Average Bill Amount for lunch on Sunday: nan\n",
      "Average Bill Amount for dinner on Sunday: 21.410000000000004\n"
     ]
    }
   ],
   "source": [
    "print(\"Average Bill Amount for lunch on Thursday:\",store_day_Thur[store_day_Thur[\"time\"]=='Lunch']['total_bill'].mean())\n",
    "print(\"Average Bill Amount for Dinner on Thursday:\",store_day_Thur[store_day_Thur[\"time\"]=='Dinner']['total_bill'].mean())\n",
    "print(\"Average Bill Amount for lunch on Friday:\",store_day_Fri[store_day_Fri[\"time\"]=='Lunch']['total_bill'].mean())\n",
    "print(\"Average Bill Amount for dinner on Friday:\",store_day_Fri[store_day_Fri[\"time\"]=='Dinner']['total_bill'].mean())\n",
    "print(\"Average Bill Amount for lunch on Saturday:\",store_day_Sat[store_day_Sat[\"time\"]=='Lunch']['total_bill'].mean())\n",
    "print(\"Average Bill Amount for dinner on Saturday:\",store_day_Sat[store_day_Sat[\"time\"]=='Dinner']['total_bill'].mean())\n",
    "print(\"Average Bill Amount for lunch on Sunday:\",store_day_Sun[store_day_Sun[\"time\"]=='Lunch']['total_bill'].mean())\n",
    "print(\"Average Bill Amount for dinner on Sunday:\",store_day_Sun[store_day_Sun[\"time\"]=='Dinner']['total_bill'].mean())"
   ]
  },
  {
   "cell_type": "markdown",
   "metadata": {},
   "source": [
    "### 14. Comment about the tips given by the smokers"
   ]
  },
  {
   "cell_type": "code",
   "execution_count": 43,
   "metadata": {},
   "outputs": [
    {
     "name": "stdout",
     "output_type": "stream",
     "text": [
      "Non Smokers Average tip 2.9918543046357624\n",
      "Smokers Average tip 3.008709677419355\n"
     ]
    }
   ],
   "source": [
    "\n",
    "print(\"Non Smokers Average tip\",store_data[store_data[\"smoker\"]=='No']['tip'].mean())\n",
    "print(\"Smokers Average tip\",store_data[store_data[\"smoker\"]=='Yes']['tip'].mean())\n",
    "# Smokers gives more tip than non smokers"
   ]
  },
  {
   "cell_type": "markdown",
   "metadata": {},
   "source": [
    "### 15.Create a Pivot table with sex and smokers with their average tip amount"
   ]
  },
  {
   "cell_type": "code",
   "execution_count": 46,
   "metadata": {},
   "outputs": [
    {
     "data": {
      "text/html": [
       "<div>\n",
       "<style scoped>\n",
       "    .dataframe tbody tr th:only-of-type {\n",
       "        vertical-align: middle;\n",
       "    }\n",
       "\n",
       "    .dataframe tbody tr th {\n",
       "        vertical-align: top;\n",
       "    }\n",
       "\n",
       "    .dataframe thead th {\n",
       "        text-align: right;\n",
       "    }\n",
       "</style>\n",
       "<table border=\"1\" class=\"dataframe\">\n",
       "  <thead>\n",
       "    <tr style=\"text-align: right;\">\n",
       "      <th>smoker</th>\n",
       "      <th>No</th>\n",
       "      <th>Yes</th>\n",
       "    </tr>\n",
       "    <tr>\n",
       "      <th>sex</th>\n",
       "      <th></th>\n",
       "      <th></th>\n",
       "    </tr>\n",
       "  </thead>\n",
       "  <tbody>\n",
       "    <tr>\n",
       "      <th>Female</th>\n",
       "      <td>2.773519</td>\n",
       "      <td>2.931515</td>\n",
       "    </tr>\n",
       "    <tr>\n",
       "      <th>Male</th>\n",
       "      <td>3.113402</td>\n",
       "      <td>3.051167</td>\n",
       "    </tr>\n",
       "  </tbody>\n",
       "</table>\n",
       "</div>"
      ],
      "text/plain": [
       "smoker        No       Yes\n",
       "sex                       \n",
       "Female  2.773519  2.931515\n",
       "Male    3.113402  3.051167"
      ]
     },
     "execution_count": 46,
     "metadata": {},
     "output_type": "execute_result"
    }
   ],
   "source": [
    "store_data.pivot_table(index='sex',columns='smoker',values='tip',aggfunc='mean')"
   ]
  },
  {
   "cell_type": "markdown",
   "metadata": {},
   "source": [
    "### 16. Compute the tips per person for each observation (tips/size)"
   ]
  },
  {
   "cell_type": "code",
   "execution_count": 59,
   "metadata": {},
   "outputs": [
    {
     "name": "stdout",
     "output_type": "stream",
     "text": [
      "Average tip for Size 1 1.4375\n",
      "Average tip for Size 2 2.582307692307693\n",
      "Average tip for Size 3 3.393157894736842\n",
      "Average tip for Size 4 4.135405405405407\n",
      "Average tip for Size 5 4.0280000000000005\n",
      "Average tip for Size 6 5.225\n"
     ]
    }
   ],
   "source": [
    "store_day_size_one =store_data[store_data[\"size\"]==1]\n",
    "store_day_size_two =store_data[store_data[\"size\"]==2]\n",
    "store_day_size_three =store_data[store_data[\"size\"]==3]\n",
    "store_day_size_four =store_data[store_data[\"size\"]==4]\n",
    "store_day_size_five =store_data[store_data[\"size\"]==5]\n",
    "store_day_size_six =store_data[store_data[\"size\"]==6]\n",
    "print(\"Average tip for Size 1\",store_day_size_one['tip'].mean())\n",
    "print(\"Average tip for Size 2\",store_day_size_two['tip'].mean())\n",
    "print(\"Average tip for Size 3\",store_day_size_three['tip'].mean())\n",
    "print(\"Average tip for Size 4\",store_day_size_four['tip'].mean())\n",
    "print(\"Average tip for Size 5\",store_day_size_five['tip'].mean())\n",
    "print(\"Average tip for Size 6\",store_day_size_six['tip'].mean())\n"
   ]
  },
  {
   "cell_type": "code",
   "execution_count": null,
   "metadata": {},
   "outputs": [],
   "source": []
  }
 ],
 "metadata": {
  "kernelspec": {
   "display_name": "Python 3",
   "language": "python",
   "name": "python3"
  },
  "language_info": {
   "codemirror_mode": {
    "name": "ipython",
    "version": 3
   },
   "file_extension": ".py",
   "mimetype": "text/x-python",
   "name": "python",
   "nbconvert_exporter": "python",
   "pygments_lexer": "ipython3",
   "version": "3.8.8"
  }
 },
 "nbformat": 4,
 "nbformat_minor": 2
}
