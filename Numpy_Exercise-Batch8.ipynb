{
 "cells": [
  {
   "cell_type": "markdown",
   "metadata": {},
   "source": [
    "# Numpy Exercise  <img src = \"numpy1.png\">\n",
    "###### Authored by T.K.Senthil Kumar"
   ]
  },
  {
   "cell_type": "markdown",
   "metadata": {},
   "source": [
    "#### 1. Create a numpy array with the number of elements equals your age. The value of array elements is a random number between 10 to your age "
   ]
  },
  {
   "cell_type": "code",
   "execution_count": 2,
   "metadata": {},
   "outputs": [
    {
     "data": {
      "text/plain": [
       "array([22, 21, 30, 35, 11, 27, 39, 23, 25, 29, 14, 20, 12, 19, 23, 15, 28,\n",
       "       37, 36, 20, 39, 26, 39, 39, 34, 33, 29, 21, 38, 22, 34, 11, 21, 24,\n",
       "       27, 26, 12, 11, 10, 39])"
      ]
     },
     "execution_count": 2,
     "metadata": {},
     "output_type": "execute_result"
    }
   ],
   "source": [
    "#Solution\n",
    "import numpy as np\n",
    "\n",
    "age = 40\n",
    "np.random.randint(10,age,age)\n",
    "\n",
    "\n"
   ]
  },
  {
   "cell_type": "markdown",
   "metadata": {},
   "source": [
    "#### 2. Create a numpy array between 1 to 50 with the span(space) of 2 and print the length of the array"
   ]
  },
  {
   "cell_type": "code",
   "execution_count": 6,
   "metadata": {},
   "outputs": [
    {
     "data": {
      "text/plain": [
       "array([ 1,  3,  5,  7,  9, 11, 13, 15, 17, 19, 21, 23, 25, 27, 29, 31, 33,\n",
       "       35, 37, 39, 41, 43, 45, 47, 49])"
      ]
     },
     "execution_count": 6,
     "metadata": {},
     "output_type": "execute_result"
    }
   ],
   "source": [
    "# Solution\n",
    "\n",
    "np.arange(1,51,2)\n",
    "\n",
    "\n"
   ]
  },
  {
   "cell_type": "markdown",
   "metadata": {},
   "source": [
    "#### 3. Create an equally spaced numpy array with 27 elements between 4 and 7 "
   ]
  },
  {
   "cell_type": "code",
   "execution_count": 9,
   "metadata": {},
   "outputs": [
    {
     "name": "stdout",
     "output_type": "stream",
     "text": [
      "[4.         4.11538462 4.23076923 4.34615385 4.46153846 4.57692308\n",
      " 4.69230769 4.80769231 4.92307692 5.03846154 5.15384615 5.26923077\n",
      " 5.38461538 5.5        5.61538462 5.73076923 5.84615385 5.96153846\n",
      " 6.07692308 6.19230769 6.30769231 6.42307692 6.53846154 6.65384615\n",
      " 6.76923077 6.88461538 7.        ]\n",
      "27\n"
     ]
    }
   ],
   "source": [
    "# Solution\n",
    "ar1=np.linspace(4,7,27)\n",
    "print(ar1)\n",
    "print(len(ar1))\n",
    "\n",
    "\n"
   ]
  },
  {
   "cell_type": "markdown",
   "metadata": {},
   "source": [
    "#### 4. Create a matrix of size (5 x 4) with random numbers and round off the each elements by only 2 fractional points."
   ]
  },
  {
   "cell_type": "code",
   "execution_count": 12,
   "metadata": {},
   "outputs": [
    {
     "data": {
      "text/plain": [
       "array([[0.81, 0.05, 0.41, 0.12],\n",
       "       [0.7 , 0.35, 0.44, 0.47],\n",
       "       [0.21, 0.26, 0.01, 0.04],\n",
       "       [0.38, 0.09, 0.09, 0.5 ],\n",
       "       [0.64, 0.01, 0.59, 0.92]])"
      ]
     },
     "execution_count": 12,
     "metadata": {},
     "output_type": "execute_result"
    }
   ],
   "source": [
    "# Solution\n",
    "ar2=np.random.random((5,4))\n",
    "ar2.round(2)\n",
    "\n",
    "\n",
    "\n",
    "\n",
    "\n",
    "\n"
   ]
  },
  {
   "cell_type": "markdown",
   "metadata": {},
   "source": [
    "#### 5. Create a matrix of size (5x5) with random integers between 5 to 15"
   ]
  },
  {
   "cell_type": "code",
   "execution_count": 10,
   "metadata": {},
   "outputs": [
    {
     "data": {
      "text/plain": [
       "array([[ 8,  6, 13, 13,  9],\n",
       "       [ 8, 10, 10,  7, 12],\n",
       "       [10, 12,  6, 13,  5],\n",
       "       [ 8,  5,  5, 13,  9],\n",
       "       [ 8,  5, 11,  5,  9]])"
      ]
     },
     "execution_count": 10,
     "metadata": {},
     "output_type": "execute_result"
    }
   ],
   "source": [
    "# Solution\n",
    "ar3=np.random.randint(5,15,(5,5))\n",
    "ar3\n",
    "\n",
    "\n"
   ]
  },
  {
   "cell_type": "markdown",
   "metadata": {},
   "source": [
    "#### 6. Create the one dimensional array of zeros of random length below 20 with the data type int32"
   ]
  },
  {
   "cell_type": "code",
   "execution_count": 34,
   "metadata": {},
   "outputs": [
    {
     "name": "stdout",
     "output_type": "stream",
     "text": [
      "int32\n"
     ]
    },
    {
     "data": {
      "text/plain": [
       "array([0, 0, 0, 0, 0, 0, 0, 0, 0, 0, 0, 0, 0, 0, 0, 0, 0, 0, 0, 0])"
      ]
     },
     "execution_count": 34,
     "metadata": {},
     "output_type": "execute_result"
    }
   ],
   "source": [
    "# Solution\n",
    "a1=np.arange(20, dtype=int)\n",
    "a2=np.zeros_like(a1)\n",
    "print(a2.dtype)\n",
    "a2clone =a2\n",
    "a2clone\n",
    "\n"
   ]
  },
  {
   "cell_type": "markdown",
   "metadata": {},
   "source": [
    "#### 7. Create a two dimensional array of ones of random row and column lengths with the data type of float32 "
   ]
  },
  {
   "cell_type": "code",
   "execution_count": 40,
   "metadata": {},
   "outputs": [
    {
     "name": "stdout",
     "output_type": "stream",
     "text": [
      "[[1. 1.]\n",
      " [1. 1.]]\n",
      "float32\n"
     ]
    }
   ],
   "source": [
    "# Solution\n",
    "a3 =(2,2)\n",
    "a3ones=np.ones((a3),dtype='f')\n",
    "print(a3ones)\n",
    "print(a3ones.dtype)\n",
    "\n",
    "\n"
   ]
  },
  {
   "cell_type": "markdown",
   "metadata": {},
   "source": [
    "#### 8. Create a matrix exactly as same as shown below and print its shape, type and dtype\n",
    "<img src = \"np_mat1.png\">"
   ]
  },
  {
   "cell_type": "code",
   "execution_count": 51,
   "metadata": {},
   "outputs": [
    {
     "name": "stdout",
     "output_type": "stream",
     "text": [
      "Type: <class 'numpy.ndarray'>\n",
      "Shape (175, 226, 3)\n",
      "Dtype  float32\n"
     ]
    },
    {
     "data": {
      "image/png": "[encoded data removed]",
      "text/plain": [
       "<Figure size 432x288 with 1 Axes>"
      ]
     },
     "metadata": {
      "needs_background": "light"
     },
     "output_type": "display_data"
    }
   ],
   "source": [
    "# Solution\n",
    "from matplotlib import pyplot as plt\n",
    "im=plt.imread('np_mat.png')\n",
    "plt.imshow(im)\n",
    "print(\"Type:\",type(im))\n",
    "print(\"Shape\",im.shape)\n",
    "print(\"Dtype \",im.dtype)\n",
    "\n",
    "\n",
    "\n"
   ]
  },
  {
   "cell_type": "markdown",
   "metadata": {},
   "source": [
    "#### 9. Access the center pixel of the matrix defined in the question no 8 ( Don't enter the row and column index explicitely)"
   ]
  },
  {
   "cell_type": "code",
   "execution_count": 67,
   "metadata": {},
   "outputs": [
    {
     "data": {
      "text/plain": [
       "<matplotlib.image.AxesImage at 0x24bf686e5e0>"
      ]
     },
     "execution_count": 67,
     "metadata": {},
     "output_type": "execute_result"
    },
    {
     "data": {
      "image/png": "[encoded data removed]",
      "text/plain": [
       "<Figure size 432x288 with 1 Axes>"
      ]
     },
     "metadata": {
      "needs_background": "light"
     },
     "output_type": "display_data"
    }
   ],
   "source": [
    "# Solution\n",
    "im1=im[0:166,75:126]\n",
    "plt.imshow(im1)\n",
    "\n",
    "\n"
   ]
  },
  {
   "cell_type": "markdown",
   "metadata": {},
   "source": [
    "#### 10. Print the all the elements of 3rd row of the matrix"
   ]
  },
  {
   "cell_type": "code",
   "execution_count": 64,
   "metadata": {},
   "outputs": [
    {
     "data": {
      "text/plain": [
       "<matplotlib.image.AxesImage at 0x24bf6763250>"
      ]
     },
     "execution_count": 64,
     "metadata": {},
     "output_type": "execute_result"
    },
    {
     "data": {
      "image/png": "[encoded data removed]",
      "text/plain": [
       "<Figure size 432x288 with 1 Axes>"
      ]
     },
     "metadata": {
      "needs_background": "light"
     },
     "output_type": "display_data"
    }
   ],
   "source": [
    "# Solution\n",
    "im2=im[75:100,0:200]\n",
    "plt.imshow(im2)\n",
    "\n",
    "\n"
   ]
  },
  {
   "cell_type": "markdown",
   "metadata": {},
   "source": [
    "#### 11. Print the all the elements of 4th columns of the matrix"
   ]
  },
  {
   "cell_type": "code",
   "execution_count": 68,
   "metadata": {},
   "outputs": [
    {
     "data": {
      "text/plain": [
       "<matplotlib.image.AxesImage at 0x24bf68ca4f0>"
      ]
     },
     "execution_count": 68,
     "metadata": {},
     "output_type": "execute_result"
    },
    {
     "data": {
      "image/png": "[encoded data removed]",
      "text/plain": [
       "<Figure size 432x288 with 1 Axes>"
      ]
     },
     "metadata": {
      "needs_background": "light"
     },
     "output_type": "display_data"
    }
   ],
   "source": [
    "# Solution\n",
    "im3=im[0:166,125:175]\n",
    "plt.imshow(im3)\n",
    "\n"
   ]
  },
  {
   "cell_type": "markdown",
   "metadata": {},
   "source": [
    "#### 12. Print the 4 corner pixels of the matrix"
   ]
  },
  {
   "cell_type": "code",
   "execution_count": 76,
   "metadata": {},
   "outputs": [
    {
     "data": {
      "text/plain": [
       "<matplotlib.image.AxesImage at 0x24bf6b3a1c0>"
      ]
     },
     "execution_count": 76,
     "metadata": {},
     "output_type": "execute_result"
    },
    {
     "data": {
      "image/png": "[encoded data removed]",
      "text/plain": [
       "<Figure size 432x288 with 1 Axes>"
      ]
     },
     "metadata": {
      "needs_background": "light"
     },
     "output_type": "display_data"
    }
   ],
   "source": [
    "# Solution\n",
    "im4=im[0:25,:50]\n",
    "plt.imshow(im4)\n",
    "\n",
    "\n"
   ]
  },
  {
   "cell_type": "markdown",
   "metadata": {},
   "source": [
    "#### 13. Create three matrix m1,m2,m3 with the elements grouped in the figure below\n",
    "<img src = \"np_mat2.png\">"
   ]
  },
  {
   "cell_type": "code",
   "execution_count": 116,
   "metadata": {},
   "outputs": [
    {
     "name": "stdout",
     "output_type": "stream",
     "text": [
      "[[50 34]\n",
      " [34 65]]\n",
      "[[ 7  8]\n",
      " [23 12]]\n",
      "[[ 3 76  3]\n",
      " [ 6 54  6]\n",
      " [ 8  5  8]]\n"
     ]
    }
   ],
   "source": [
    "# Solution \n",
    "m1=np.matrix('50 34; 34 65')\n",
    "m2=np.matrix('7 8; 23 12')\n",
    "m3=np.matrix('3 76 3; 6 54 6; 8 5 8')\n",
    "print(m1)\n",
    "print(m2)\n",
    "print(m3)\n",
    "\n",
    "\n",
    "\n"
   ]
  },
  {
   "cell_type": "markdown",
   "metadata": {},
   "source": [
    "#### 14. Reshape all the three matrix segmented in the above task in to three  1-dimensional vector."
   ]
  },
  {
   "cell_type": "code",
   "execution_count": 98,
   "metadata": {},
   "outputs": [
    {
     "name": "stdout",
     "output_type": "stream",
     "text": [
      "[50 34 34 65]\n",
      "[ 7  8 23 12]\n",
      "[ 3 76  3  6 54  6  8  5  8]\n"
     ]
    }
   ],
   "source": [
    "# Solution\n",
    "m4=np.asarray(m1).flatten()\n",
    "m5=np.asarray(m2).flatten()\n",
    "m6=np.asarray(m3).flatten()\n",
    "print(m4)\n",
    "print(m5)\n",
    "print(m6)\n",
    "\n",
    "\n"
   ]
  },
  {
   "cell_type": "markdown",
   "metadata": {},
   "source": [
    "#### 15. Concatenate the matrix m1 and m2 in both vertical and horizontal direction"
   ]
  },
  {
   "cell_type": "code",
   "execution_count": 117,
   "metadata": {},
   "outputs": [
    {
     "name": "stdout",
     "output_type": "stream",
     "text": [
      "[[50 34  7  8]\n",
      " [34 65 23 12]]\n",
      "[[50 34]\n",
      " [34 65]\n",
      " [ 7  8]\n",
      " [23 12]]\n"
     ]
    }
   ],
   "source": [
    "# Solution\n",
    "m1=m1.reshape(2,2)\n",
    "m2=m2.reshape(2,2)\n",
    "m7=np.concatenate((m1,m2),axis=1)\n",
    "m8=np.concatenate((m1,m2),axis=0)\n",
    "print(m7)\n",
    "print(m8)\n",
    "\n",
    "\n",
    "\n"
   ]
  },
  {
   "cell_type": "markdown",
   "metadata": {},
   "source": [
    "#### 16. Add, Subtract, multiply, divide the matrixes m1 and m2"
   ]
  },
  {
   "cell_type": "code",
   "execution_count": 120,
   "metadata": {},
   "outputs": [
    {
     "name": "stdout",
     "output_type": "stream",
     "text": [
      "[[57 42]\n",
      " [57 77]]\n",
      "[[43 26]\n",
      " [11 53]]\n",
      "[[7.14285714 4.25      ]\n",
      " [1.47826087 5.41666667]]\n"
     ]
    }
   ],
   "source": [
    "# Solution\n",
    "print(m1+m2)\n",
    "print(m1-m2)\n",
    "print(m1/m2)\n",
    "\n",
    "\n",
    "\n"
   ]
  },
  {
   "cell_type": "markdown",
   "metadata": {},
   "source": [
    "#### 17. Add the m1 with m3 by removing the first row and last column of m3"
   ]
  },
  {
   "cell_type": "code",
   "execution_count": 124,
   "metadata": {},
   "outputs": [
    {
     "name": "stdout",
     "output_type": "stream",
     "text": [
      "[[56 88]\n",
      " [42 70]]\n"
     ]
    }
   ],
   "source": [
    "# Solution\n",
    "m9=np.delete(m3,(0),axis=0)\n",
    "m9=np.delete(m9,(2),axis=1)\n",
    "print(m1+m9)\n",
    "\n",
    "\n",
    "\n"
   ]
  },
  {
   "cell_type": "markdown",
   "metadata": {},
   "source": [
    "#### 18. Form the matrix m4 by concatenating (as a new row) the vector [me1, me2] with the matrix m1, where me1 and me2 are the mean values of each column on m1."
   ]
  },
  {
   "cell_type": "code",
   "execution_count": 143,
   "metadata": {},
   "outputs": [
    {
     "name": "stdout",
     "output_type": "stream",
     "text": [
      "[[50.  34. ]\n",
      " [34.  65. ]\n",
      " [42.  49.5]]\n"
     ]
    }
   ],
   "source": [
    "# Solution\n",
    "m4new=np.matrix(m1.mean(axis=0))\n",
    "m4newconcatenate =np.concatenate((m1,m4new),axis=0)\n",
    "print(m4newconcatenate)\n",
    "\n",
    "\n",
    "\n"
   ]
  },
  {
   "cell_type": "markdown",
   "metadata": {},
   "source": [
    "#### 19. Perform the matrix multiplication between m3 and m4"
   ]
  },
  {
   "cell_type": "code",
   "execution_count": 144,
   "metadata": {},
   "outputs": [
    {
     "name": "stdout",
     "output_type": "stream",
     "text": [
      "[[2860.  5190.5]\n",
      " [2388.  4011. ]\n",
      " [ 906.   993. ]]\n"
     ]
    }
   ],
   "source": [
    "# Solution\n",
    "print(m3*m4newconcatenate)\n",
    "\n",
    "\n"
   ]
  },
  {
   "cell_type": "markdown",
   "metadata": {},
   "source": [
    "#### 20. Compute the maximum and minimum value of mean, variance, standard deviation for each row of matrix created in question number 8."
   ]
  },
  {
   "cell_type": "code",
   "execution_count": 153,
   "metadata": {},
   "outputs": [
    {
     "name": "stdout",
     "output_type": "stream",
     "text": [
      " Mean 0.89043003\n",
      "Variance 0.079606995\n",
      "Std dev 0.2821471\n"
     ]
    }
   ],
   "source": [
    "# Solution\n",
    "print(\" Mean\",np.mean(im))\n",
    "print(\"Variance\",np.var(im))\n",
    "print(\"Std dev\",np.std(im))\n",
    "\n",
    "\n",
    "\n"
   ]
  },
  {
   "cell_type": "markdown",
   "metadata": {},
   "source": [
    "#### 21. Compute the average and strike rate for each player and sort it decending way (seperately for avg and strike rate)\n",
    "<img src = 'crick1.png'>"
   ]
  },
  {
   "cell_type": "code",
   "execution_count": 8,
   "metadata": {},
   "outputs": [
    {
     "name": "stdout",
     "output_type": "stream",
     "text": [
      "Dhoni Average: 47.25 Dhoni Average Strike rate  98.4375\n",
      "Kholi Average: 53.5 Kholi Average Strike rate  101.4218009478673\n",
      "Rohit Average: 51.5 Rohit Average Strike rate  94.93087557603687\n",
      "Rahul Average: 29.0 Rahul Average Strike rate  161.11111111111111\n",
      "Dhawan Average: 13.25 Dhawan Average Strike rate  49.532710280373834\n"
     ]
    }
   ],
   "source": [
    "# Solution \n",
    "players_score=np.array([['MSD',54,60,10,65],\n",
    "                  ['Kholi',102,2,78,32],\n",
    "                  ['Rohit',3,110,1,92],\n",
    "                  ['Rahul',56,6,12,42],\n",
    "                  ['Dhawan',12,8,22,11]])\n",
    "players_strikerate=np.array([['MSD',50,42,22,78],\n",
    "                  ['Kholi',95,8,65,43],\n",
    "                  ['Rohit',9,100,7,101],\n",
    "                  ['Rahul',27,3,11,31],\n",
    "                  ['Dhawan',24,20,36,27]])\n",
    "score=players_score[:,1:]\n",
    "score=score.astype(float)\n",
    "strikerate=players_strikerate[:,1:]\n",
    "strikerate=strikerate.astype(float)\n",
    "print(\"Dhoni Average:\",score[0,:].sum()/4,\"Dhoni Average Strike rate \", \n",
    "((score[0,:].sum()/4)/(strikerate[0,:].sum()/4))*100\n",
    ")\n",
    "print(\"Kholi Average:\",score[1,:].sum()/4,\"Kholi Average Strike rate \", \n",
    "((score[1,:].sum()/4)/(strikerate[1,:].sum()/4))*100\n",
    ")\n",
    "print(\"Rohit Average:\",score[2,:].sum()/4,\"Rohit Average Strike rate \", \n",
    "((score[2,:].sum()/4)/(strikerate[2,:].sum()/4))*100\n",
    ")\n",
    "print(\"Rahul Average:\",score[3,:].sum()/4,\"Rahul Average Strike rate \", \n",
    "((score[3,:].sum()/4)/(strikerate[3,:].sum()/4))*100\n",
    ")\n",
    "print(\"Dhawan Average:\",score[4,:].sum()/4,\"Dhawan Average Strike rate \", \n",
    "((score[4,:].sum()/4)/(strikerate[4,:].sum()/4))*100\n",
    ")"
   ]
  },
  {
   "cell_type": "markdown",
   "metadata": {},
   "source": [
    "#### 22. The students mark was recorded in a numpy array: marks = np.array([65,84,47,56,89,98,48,77,80,39]).  Cutoff for pass is 50 marks. Write the logic to print the number of students passed and failed. "
   ]
  },
  {
   "cell_type": "code",
   "execution_count": 67,
   "metadata": {},
   "outputs": [
    {
     "name": "stdout",
     "output_type": "stream",
     "text": [
      "No of students failed: 3\n",
      "No of students passed: 7\n"
     ]
    }
   ],
   "source": [
    "# Solution\n",
    "studmark=np.array([65,84,47,56,89,98,48,77,80,39])\n",
    "failresults =(studmark<50).sum()\n",
    "passresults =(studmark>50).sum()\n",
    "print(\"No of students failed:\",failresults)\n",
    "print(\"No of students passed:\",passresults)\n",
    "\n",
    "\n",
    "\n",
    "\n"
   ]
  },
  {
   "cell_type": "markdown",
   "metadata": {},
   "source": [
    "#### 23. The class incharge decided to give a mercy mark of 5 for those who scored between 45 and 49. Also the bonus of 5 marks awarded to the students who scored more than 80. Print all the student marks and compute the increase in the pass percentage of class. Any score more than 100 must be recorded as only 100."
   ]
  },
  {
   "cell_type": "code",
   "execution_count": 68,
   "metadata": {},
   "outputs": [
    {
     "name": "stdout",
     "output_type": "stream",
     "text": [
      "[ 65  89  52  56  94 100  53  77  80  39]\n"
     ]
    }
   ],
   "source": [
    "# Solution\n",
    "studmarkgrac =np.where((studmark<50)&(studmark>45))\n",
    "for i in studmarkgrac:\n",
    "    studmark[i]=studmark[i]+5    \n",
    "\n",
    "studmarkbonus=np.where((studmark<99)&(studmark>80)) \n",
    "for j in studmarkbonus:\n",
    "    studmark[j]=studmark[j]+5    \n",
    "\n",
    "studmark[studmark>100]=100\n",
    "\n",
    "print(studmark)\n",
    "\n",
    "    \n",
    "\n",
    "\n"
   ]
  },
  {
   "cell_type": "markdown",
   "metadata": {},
   "source": [
    "#### 24. Print the time taken for performing the following operation using list and numpy array\n",
    "####       (x(i)^2 +8) / y(i),   where x and y are real integers from 1 to 60000"
   ]
  },
  {
   "cell_type": "code",
   "execution_count": 85,
   "metadata": {},
   "outputs": [
    {
     "name": "stdout",
     "output_type": "stream",
     "text": [
      "Time taken by Lists to perform operation: 0.038938045501708984 seconds\n",
      "Time taken by Numpy array to perform operation: 1637001475.3349483 seconds\n"
     ]
    }
   ],
   "source": [
    "# Solution\n",
    "import time as t\n",
    "\n",
    "numpyoperation = np.arange(60000)\n",
    "list1=range(60000)\n",
    "initialTime = t.time()\n",
    "resultantlist=[]\n",
    "for i in list1:   \n",
    "    resultantlist=((i+1)**2+8)/(i+1)\n",
    "    \n",
    "print(\"Time taken by Lists to perform operation:\", \n",
    "      (t.time() - initialTime),\n",
    "      \"seconds\") \n",
    "\n",
    "intialTimeNumpy=t.time()\n",
    "\n",
    "resultantnumpy=np.empty(1)\n",
    "for j in numpyoperation:   \n",
    "    intialTimeNumpy=((i+1)**2+8)/(i+1)\n",
    "\n",
    "        \n",
    "print(\"Time taken by Numpy array to perform operation:\", \n",
    "      (t.time() - intialTimeNumpy),\n",
    "      \"seconds\") \n",
    "    \n",
    "    \n",
    "\n",
    "\n",
    "\n"
   ]
  },
  {
   "cell_type": "markdown",
   "metadata": {},
   "source": [
    "#### 25. Create a Github account and upload your solution with the short write-up on Numpy"
   ]
  },
  {
   "cell_type": "code",
   "execution_count": null,
   "metadata": {},
   "outputs": [],
   "source": [
    "# Solution\n",
    "\n",
    "https://github.com/sanrama/pythonlearning.git\n",
    "\n"
   ]
  }
 ],
 "metadata": {
  "kernelspec": {
   "display_name": "Python 3",
   "language": "python",
   "name": "python3"
  },
  "language_info": {
   "codemirror_mode": {
    "name": "ipython",
    "version": 3
   },
   "file_extension": ".py",
   "mimetype": "text/x-python",
   "name": "python",
   "nbconvert_exporter": "python",
   "pygments_lexer": "ipython3",
   "version": "3.8.8"
  }
 },
 "nbformat": 4,
 "nbformat_minor": 2
}
